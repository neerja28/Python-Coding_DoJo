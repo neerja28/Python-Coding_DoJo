{
 "cells": [
  {
   "cell_type": "code",
   "execution_count": 2,
   "metadata": {},
   "outputs": [
    {
     "name": "stdout",
     "output_type": "stream",
     "text": [
      "{'apple', 100, 'banana'}\n"
     ]
    }
   ],
   "source": [
    "a = set()\n",
    "a.add('apple')\n",
    "a.add('banana')\n",
    "a.add(100)\n",
    "a.add(100)\n",
    "print(a)"
   ]
  },
  {
   "cell_type": "code",
   "execution_count": 3,
   "metadata": {},
   "outputs": [
    {
     "name": "stdout",
     "output_type": "stream",
     "text": [
      "{1, 2, 3, 4}\n"
     ]
    }
   ],
   "source": [
    "b = [1,2,2,3,3,4]\n",
    "c = set()\n",
    "\n",
    "for element in b:\n",
    "    c.add(element)\n",
    "print(c)"
   ]
  },
  {
   "cell_type": "code",
   "execution_count": 5,
   "metadata": {},
   "outputs": [
    {
     "name": "stdout",
     "output_type": "stream",
     "text": [
      "[1, 2, 3, 4]\n"
     ]
    }
   ],
   "source": [
    "new_list = list()\n",
    "for element in c:\n",
    "    new_list.append(element)\n",
    "print(new_list)"
   ]
  },
  {
   "cell_type": "code",
   "execution_count": 8,
   "metadata": {},
   "outputs": [
    {
     "name": "stdout",
     "output_type": "stream",
     "text": [
      "{1, 3, 4}\n",
      "8\n"
     ]
    }
   ],
   "source": [
    "list1 = [1, 3, 4, 1, 3]\n",
    "# Find the sum of the unique elements in the list\n",
    "set1 = set()\n",
    "\n",
    "for element in list1:\n",
    "    set1.add(element)\n",
    "print(set1)\n",
    "\n",
    "total = 0\n",
    "for element in set1:\n",
    "    total+=element\n",
    "print(total)\n"
   ]
  },
  {
   "cell_type": "code",
   "execution_count": 9,
   "metadata": {},
   "outputs": [
    {
     "name": "stdout",
     "output_type": "stream",
     "text": [
      "8\n"
     ]
    }
   ],
   "source": [
    "list1 = [1, 3, 4, 1, 3]\n",
    "# Find the sum of the unique elements in the list\n",
    "set1 = set()\n",
    "\n",
    "for element in list1:\n",
    "    set1.add(element)\n",
    "print(sum(set1))\n",
    "\n"
   ]
  },
  {
   "cell_type": "code",
   "execution_count": null,
   "metadata": {},
   "outputs": [],
   "source": []
  }
 ],
 "metadata": {
  "kernelspec": {
   "display_name": "Python 3",
   "language": "python",
   "name": "python3"
  },
  "language_info": {
   "codemirror_mode": {
    "name": "ipython",
    "version": 3
   },
   "file_extension": ".py",
   "mimetype": "text/x-python",
   "name": "python",
   "nbconvert_exporter": "python",
   "pygments_lexer": "ipython3",
   "version": "3.7.0"
  }
 },
 "nbformat": 4,
 "nbformat_minor": 2
}
