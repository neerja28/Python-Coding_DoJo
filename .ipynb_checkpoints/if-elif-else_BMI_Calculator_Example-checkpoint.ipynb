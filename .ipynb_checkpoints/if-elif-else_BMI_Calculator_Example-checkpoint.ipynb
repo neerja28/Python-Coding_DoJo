{
 "cells": [
  {
   "cell_type": "code",
   "execution_count": 13,
   "metadata": {},
   "outputs": [
    {
     "name": "stdout",
     "output_type": "stream",
     "text": [
      "Roonu\n",
      "Not overweight\n"
     ]
    }
   ],
   "source": [
    "name = \"Neerja\"\n",
    "height_m = 1.61544\n",
    "weight_kg = 55\n",
    "\n",
    "BMI = weight_kg / (height_m **2)\n",
    "\n",
    "if (BMI < 25):\n",
    "    print (name)\n",
    "    print(\"Not overweight\")\n",
    "else:\n",
    "    print (name)\n",
    "    print(\"Overweight\")"
   ]
  },
  {
   "cell_type": "code",
   "execution_count": null,
   "metadata": {},
   "outputs": [],
   "source": []
  }
 ],
 "metadata": {
  "kernelspec": {
   "display_name": "Python 3",
   "language": "python",
   "name": "python3"
  },
  "language_info": {
   "codemirror_mode": {
    "name": "ipython",
    "version": 3
   },
   "file_extension": ".py",
   "mimetype": "text/x-python",
   "name": "python",
   "nbconvert_exporter": "python",
   "pygments_lexer": "ipython3",
   "version": "3.7.0"
  }
 },
 "nbformat": 4,
 "nbformat_minor": 2
}
