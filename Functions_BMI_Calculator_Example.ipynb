{
 "cells": [
  {
   "cell_type": "code",
   "execution_count": 14,
   "metadata": {},
   "outputs": [
    {
     "name": "stdout",
     "output_type": "stream",
     "text": [
      "Neerja\n",
      "65\n",
      "1.5\n",
      "bmi:\n",
      "28.88888888888889\n",
      "Tejas\n",
      "85\n",
      "2.5\n",
      "bmi:\n",
      "13.6\n",
      "Kantha\n",
      "52\n",
      "1.7\n",
      "bmi:\n",
      "17.99307958477509\n",
      "Narayan\n",
      "52\n",
      "1.7\n",
      "bmi:\n",
      "17.99307958477509\n",
      "Neerja is overweight\n",
      "Tejas is not overweight\n",
      "Kantha is not overweight\n",
      "Narayan is not overweight\n"
     ]
    }
   ],
   "source": [
    "# Function is a collection of code\n",
    "\n",
    "name1 = \"Neerja\"\n",
    "weight_kg_1 = 65\n",
    "height_m_1 = 1.5\n",
    "\n",
    "name2 = \"Tejas\"\n",
    "weight_kg_2 = 85\n",
    "height_m_2 = 2.5\n",
    "\n",
    "name3 = \"Kantha\"\n",
    "weight_kg_3 = 52\n",
    "height_m_3 = 1.7\n",
    "\n",
    "name4 = \"Narayan\"\n",
    "weight_kg_4 = 52\n",
    "height_m_4 = 1.7\n",
    "\n",
    "def bmi_calculator(name, weight_kg, height_m):\n",
    "    print(name)\n",
    "    print(weight_kg)\n",
    "    print(height_m)\n",
    "    BMI = weight_kg / (height_m**2)\n",
    "    print(\"bmi:\")\n",
    "    print(BMI)\n",
    "    \n",
    "    if (BMI < 25):\n",
    "        return name + \" is not overweight\"\n",
    "    else:\n",
    "        return name + \" is overweight\"\n",
    "    \n",
    "    \n",
    "    \n",
    "result1 = bmi_calculator(name1, weight_kg_1, height_m_1)\n",
    "result2 = bmi_calculator(name2, weight_kg_2, height_m_2)\n",
    "result3 = bmi_calculator(name3, weight_kg_3, height_m_3)\n",
    "result4 = bmi_calculator(name4, weight_kg_4, height_m_4)\n",
    "\n",
    "print (result1)\n",
    "print (result2)\n",
    "print (result3)\n",
    "print (result4)\n",
    "\n"
   ]
  }
 ],
 "metadata": {
  "kernelspec": {
   "display_name": "Python 3",
   "language": "python",
   "name": "python3"
  },
  "language_info": {
   "codemirror_mode": {
    "name": "ipython",
    "version": 3
   },
   "file_extension": ".py",
   "mimetype": "text/x-python",
   "name": "python",
   "nbconvert_exporter": "python",
   "pygments_lexer": "ipython3",
   "version": "3.7.0"
  }
 },
 "nbformat": 4,
 "nbformat_minor": 2
}
