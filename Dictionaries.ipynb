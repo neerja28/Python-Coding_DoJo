{
 "cells": [
  {
   "cell_type": "code",
   "execution_count": 2,
   "metadata": {},
   "outputs": [],
   "source": [
    "#Define an Empty String\n",
    "# d = dict()\n",
    "\n",
    "d = {} # Preferred\n",
    " \n",
    "# Dictionaries is key-value pair\n",
    "a = {\"Banana\":10, \"Apple\":15, \"Mango\":30}"
   ]
  },
  {
   "cell_type": "code",
   "execution_count": 3,
   "metadata": {},
   "outputs": [
    {
     "name": "stdout",
     "output_type": "stream",
     "text": [
      "30\n"
     ]
    }
   ],
   "source": [
    "a[\"German\"] = 30\n",
    "print(a[\"German\"])"
   ]
  },
  {
   "cell_type": "code",
   "execution_count": 4,
   "metadata": {},
   "outputs": [
    {
     "name": "stdout",
     "output_type": "stream",
     "text": [
      "50\n"
     ]
    }
   ],
   "source": [
    "a[\"German\"] = 50\n",
    "print(a[\"German\"])"
   ]
  },
  {
   "cell_type": "code",
   "execution_count": 5,
   "metadata": {},
   "outputs": [
    {
     "name": "stdout",
     "output_type": "stream",
     "text": [
      "500\n"
     ]
    }
   ],
   "source": [
    "a[50] = 500\n",
    "print(a[50])"
   ]
  },
  {
   "cell_type": "code",
   "execution_count": 8,
   "metadata": {},
   "outputs": [
    {
     "name": "stdout",
     "output_type": "stream",
     "text": [
      "Key: Banana\n",
      "Value: 10\n",
      "Key: Apple\n",
      "Value: 15\n",
      "Key: Mango\n",
      "Value: 30\n",
      "Key: German\n",
      "Value: 50\n",
      "Key: 50\n",
      "Value: 500\n"
     ]
    }
   ],
   "source": [
    "for key,value in a.items():\n",
    "    print(\"Key:\",key)\n",
    "    print(\"Value:\", value)"
   ]
  }
 ],
 "metadata": {
  "kernelspec": {
   "display_name": "Python 3",
   "language": "python",
   "name": "python3"
  },
  "language_info": {
   "codemirror_mode": {
    "name": "ipython",
    "version": 3
   },
   "file_extension": ".py",
   "mimetype": "text/x-python",
   "name": "python",
   "nbconvert_exporter": "python",
   "pygments_lexer": "ipython3",
   "version": "3.7.0"
  }
 },
 "nbformat": 4,
 "nbformat_minor": 2
}
