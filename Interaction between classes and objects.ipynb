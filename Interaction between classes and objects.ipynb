{
 "cells": [
  {
   "cell_type": "code",
   "execution_count": 3,
   "metadata": {},
   "outputs": [
    {
     "name": "stdout",
     "output_type": "stream",
     "text": [
      "My name is Tom\n",
      "My name is Jerry\n"
     ]
    }
   ],
   "source": [
    "class Robot:\n",
    "    \n",
    "    def __init__(self, n, color, weight):\n",
    "        self.name = n\n",
    "        self.color = color\n",
    "        self.weight = weight\n",
    "        \n",
    "    def introduce_robot(self):\n",
    "        print(\"My name is \" + self.name)\n",
    "        \n",
    "r1 = Robot(\"Tom\",\"red\",40)\n",
    "r2 = Robot(\"Jerry\",\"blue\",30)\n",
    "\n",
    "r1.introduce_robot()\n",
    "r2.introduce_robot()"
   ]
  },
  {
   "cell_type": "code",
   "execution_count": null,
   "metadata": {},
   "outputs": [],
   "source": [
    "class Person:\n",
    "    \n",
    "    def __init__(self, name, p, s):\n",
    "        self.name = name\n",
    "        self.personality = p\n",
    "        self.sit = s\n",
    "        \n",
    "    def sit_down(self):\n",
    "        self.sit = True\n",
    "    \n",
    "    def stand_up(self):\n",
    "        self.sit = False\n",
    "        \n",
    "p1 = Person(\"Alice\",\"aggresive\",True)\n",
    "p2 = Person(\"Becky\",\"talkative\", False)\n",
    "\n"
   ]
  },
  {
   "cell_type": "code",
   "execution_count": null,
   "metadata": {},
   "outputs": [],
   "source": [
    "p1.robot_has = r1\n",
    "p2.robot_has = r2\n",
    "\n",
    "p1.robot_has.introduce_robot()\n",
    "p2.robot_has.introduce_robot()"
   ]
  },
  {
   "cell_type": "code",
   "execution_count": null,
   "metadata": {},
   "outputs": [],
   "source": []
  }
 ],
 "metadata": {
  "kernelspec": {
   "display_name": "Python 3",
   "language": "python",
   "name": "python3"
  },
  "language_info": {
   "codemirror_mode": {
    "name": "ipython",
    "version": 3
   },
   "file_extension": ".py",
   "mimetype": "text/x-python",
   "name": "python",
   "nbconvert_exporter": "python",
   "pygments_lexer": "ipython3",
   "version": "3.7.0"
  }
 },
 "nbformat": 4,
 "nbformat_minor": 2
}
